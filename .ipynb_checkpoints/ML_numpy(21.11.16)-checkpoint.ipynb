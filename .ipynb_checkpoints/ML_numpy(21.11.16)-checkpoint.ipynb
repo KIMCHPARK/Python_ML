{
 "cells": [
  {
   "cell_type": "markdown",
   "id": "d25b5f38",
   "metadata": {},
   "source": [
    "### 넘파이 ndarray 개요"
   ]
  },
  {
   "cell_type": "code",
   "execution_count": 35,
   "id": "dbbe18b1",
   "metadata": {},
   "outputs": [],
   "source": [
    "import numpy as np"
   ]
  },
  {
   "cell_type": "code",
   "execution_count": 36,
   "id": "a293b1fe",
   "metadata": {},
   "outputs": [
    {
     "name": "stdout",
     "output_type": "stream",
     "text": [
      "array1 type:  <class 'numpy.ndarray'>\n",
      "array1 array 형태:  (3,)\n",
      "array2 type:  <class 'numpy.ndarray'>\n",
      "array2 array 형태:  (2, 3)\n",
      "array3 type:  <class 'numpy.ndarray'>\n",
      "array3 array 형태:  (1, 3)\n"
     ]
    }
   ],
   "source": [
    "array1 = np.array([1,2,3])\n",
    "print('array1 type: ', type(array1))\n",
    "print('array1 array 형태: ', array1.shape)\n",
    "\n",
    "array2 = np.array([[1,2,3],\n",
    "                   [2,3,4]])\n",
    "print('array2 type: ', type(array2))\n",
    "print('array2 array 형태: ', array2.shape)\n",
    "\n",
    "array3 = np.array([[1,2,3]])\n",
    "print('array3 type: ', type(array3))\n",
    "print('array3 array 형태: ', array3.shape)"
   ]
  },
  {
   "cell_type": "markdown",
   "id": "21ed98c2",
   "metadata": {},
   "source": [
    "* array1의 shape은 (3,)\n",
    "이는 1차원 array로 3개의 데이터를 가지고 있음을 뜻함.\n",
    "\n",
    "* array2의 shape은 (2,3)\n",
    "이는 2차원 array로 2개의 로우와 3개의 칼럼으로 구성되어 2*3=6개의 데이터를 가지고 있음을 뜻함.\n",
    "\n",
    "* array3의 shape은 (1,3)\n",
    "이는 1개의 row와 3개의 colums으로 구성되어 있어서 1*3=3개의 데이터를 가지고 있음을 뜻함."
   ]
  },
  {
   "cell_type": "code",
   "execution_count": 37,
   "id": "cfdb67fe",
   "metadata": {},
   "outputs": [
    {
     "name": "stdout",
     "output_type": "stream",
     "text": [
      "array1: 1차원, array2: 2차원, array3:  2차원\n"
     ]
    }
   ],
   "source": [
    "print('array1: {:0}차원, array2: {:1}차원, array3: {:2}차원'.format(array1.ndim, \n",
    "                                                                    array2.ndim, array3.ndim))  #ndarray.ndim은 demention확인"
   ]
  },
  {
   "cell_type": "markdown",
   "id": "6cb82f0d",
   "metadata": {},
   "source": [
    "### ndarray의 데이터 타입"
   ]
  },
  {
   "cell_type": "code",
   "execution_count": 38,
   "id": "0a803bb0",
   "metadata": {},
   "outputs": [
    {
     "name": "stdout",
     "output_type": "stream",
     "text": [
      "<class 'list'>\n",
      "<class 'numpy.ndarray'>\n",
      "[1 2 3] int32\n"
     ]
    }
   ],
   "source": [
    "list1 = [1,2,3]\n",
    "print(type(list1))\n",
    "array1 = np.array(list1)\n",
    "print(type(array1))\n",
    "print(array1, array1.dtype)"
   ]
  },
  {
   "cell_type": "code",
   "execution_count": 39,
   "id": "0ab01208",
   "metadata": {},
   "outputs": [
    {
     "name": "stdout",
     "output_type": "stream",
     "text": [
      "['1' '2' 'test'] <U11\n",
      "[1. 2. 3.] float64\n"
     ]
    }
   ],
   "source": [
    "list2 = [1, 2, 'test']\n",
    "array2 = np.array(list2)\n",
    "print(array2, array2.dtype)\n",
    "\n",
    "list3 = [1, 2, 3.0]\n",
    "array3 = np.array(list3)\n",
    "print(array3, array3.dtype)"
   ]
  },
  {
   "cell_type": "markdown",
   "id": "6ed2c691",
   "metadata": {},
   "source": [
    "ndarray는 데이터값이 모두 같은 데이터 타입이어야 하므로 서로 다른 데이터 타입이 섞여 있을 경우 데이터 타입이 더 큰 데이터 타입으로 변환되어 int형이 유니코드 문자열 값으로 변환\n",
    "int형과 float형이 섞여 있는 list3의 경우도 int1, 2가 모두 1. 2.인 float64형으로 변환"
   ]
  },
  {
   "cell_type": "code",
   "execution_count": 40,
   "id": "b36bc423",
   "metadata": {},
   "outputs": [
    {
     "name": "stdout",
     "output_type": "stream",
     "text": [
      "[1. 2. 3.] float64\n",
      "[1 2 3] int32\n",
      "[1 2 3] int32\n"
     ]
    }
   ],
   "source": [
    "array_int = np.array([1, 2, 3])\n",
    "array_float = array_int.astype('float64') #int64를 float64로 변환\n",
    "print(array_float, array_float.dtype)\n",
    "\n",
    "array_int1 = array_float.astype('int32') #float64를 int32로 변환\n",
    "print(array_int1, array_int1.dtype)\n",
    "\n",
    "array_float1 = np.array([1.1, 2.1, 3.1])\n",
    "array_int2= array_float1.astype('int32') #float64를 int32로 변환\n",
    "print(array_int2, array_int2.dtype)"
   ]
  },
  {
   "cell_type": "markdown",
   "id": "a93f206c",
   "metadata": {},
   "source": [
    "### ndarray를 편리하게 생성하기 - arrange, zeros, ones"
   ]
  },
  {
   "cell_type": "code",
   "execution_count": 41,
   "id": "726238c8",
   "metadata": {},
   "outputs": [
    {
     "name": "stdout",
     "output_type": "stream",
     "text": [
      "[0 1 2 3 4 5 6 7 8 9]\n",
      "int32 (10,)\n"
     ]
    }
   ],
   "source": [
    "sequence_array = np.arange(10) # 0부터 함수 인자 값 -1까지의 값을 순차적으로 ndarray의 데이터값으로 변환\n",
    "print(sequence_array)\n",
    "print(sequence_array.dtype, sequence_array.shape)"
   ]
  },
  {
   "cell_type": "code",
   "execution_count": 42,
   "id": "e2baa717",
   "metadata": {},
   "outputs": [
    {
     "name": "stdout",
     "output_type": "stream",
     "text": [
      "[[0 0]\n",
      " [0 0]\n",
      " [0 0]]\n",
      "int32 (3, 2)\n",
      "[[1. 1.]\n",
      " [1. 1.]\n",
      " [1. 1.]]\n",
      "float64 (3, 2)\n"
     ]
    }
   ],
   "source": [
    "zero_array = np.zeros((3,2), dtype='int32') # zeros()은 함수 인자로 튜플 형태의 shape값을 모든 값을 0으로 채운 해당 shape를 가진 ndarray를 반환\n",
    "print(zero_array)\n",
    "print(zero_array.dtype, zero_array.shape)\n",
    "\n",
    "one_array = np.ones((3,2)) # ones()은 함수 인자로 튜플 형태의 shape값을 모든 값을 1로 채운 해당 shape를 가진 ndarray를 반환\n",
    "print(one_array)\n",
    "print(one_array.dtype, one_array.shape)\n",
    "# dtype을 정해주지 않으면 default로 float64형의 데이터로 ndarray를 채움"
   ]
  },
  {
   "cell_type": "markdown",
   "id": "7ba58c48",
   "metadata": {},
   "source": [
    "### ndarray의 차원과 크기를 변경하는 reshape()"
   ]
  },
  {
   "cell_type": "code",
   "execution_count": 43,
   "id": "896aec21",
   "metadata": {},
   "outputs": [
    {
     "name": "stdout",
     "output_type": "stream",
     "text": [
      "array1:\n",
      " [0 1 2 3 4 5 6 7 8 9]\n",
      "array2:\n",
      " [[0 1 2 3 4]\n",
      " [5 6 7 8 9]]\n",
      "array3:\n",
      " [[0 1]\n",
      " [2 3]\n",
      " [4 5]\n",
      " [6 7]\n",
      " [8 9]]\n"
     ]
    }
   ],
   "source": [
    "array1 = np.arange(10) \n",
    "print('array1:\\n', array1)\n",
    "\n",
    "array2 = array1.reshape(2, 5) # reshape()은 ndarray를 특정 차원 및 크기로 변환\n",
    "print('array2:\\n', array2)\n",
    "\n",
    "array3 = array1.reshape(5, 2)\n",
    "print('array3:\\n', array3)"
   ]
  },
  {
   "cell_type": "code",
   "execution_count": 44,
   "id": "9ce7743b",
   "metadata": {},
   "outputs": [],
   "source": [
    "# array1.reshape(4,3) \n",
    "# 위와 같이 지정된 사이즈로 변경이 불가능하면 오류를 발생"
   ]
  },
  {
   "cell_type": "code",
   "execution_count": 45,
   "id": "2189065f",
   "metadata": {},
   "outputs": [
    {
     "name": "stdout",
     "output_type": "stream",
     "text": [
      "[0 1 2 3 4 5 6 7 8 9]\n",
      "array2 shape:  (2, 5)\n",
      "array3 shpae:  (5, 2)\n"
     ]
    }
   ],
   "source": [
    "array1 = np.arange(10)\n",
    "print(array1)\n",
    "array2 = array1.reshape(-1, 5)\n",
    "print('array2 shape: ', array2.shape)\n",
    "array3 = array1.reshape(5, -1)\n",
    "print('array3 shpae: ', array3.shape)"
   ]
  },
  {
   "cell_type": "markdown",
   "id": "99a08c9d",
   "metadata": {},
   "source": [
    "array1은 1차원 ndarray로 0~9까지의 데이터를 가지고 있음\n",
    "array2은 array1.reshape(-1,5)로, 로우 인자가 -1, 칼럼 인자가 5임. 이것은 array1과 호환될 수 있는 2차원 ndarray로 변환하되,\n",
    "고정된 칼럼에 맞는 로우를 자동으로 새롭게 생성해 변환하라는 의미. 즉 10개의 1차원 데이터와 호환될 수 있는 고정된 5개 칼럼에\n",
    "맞는 로우 수는 2이므로 2X5의 2차원 ndarray로 변환"
   ]
  },
  {
   "cell_type": "code",
   "execution_count": 46,
   "id": "0542e75a",
   "metadata": {},
   "outputs": [],
   "source": [
    "# array1 = np.arange(10)\n",
    "# array4 = array1.reshape(-1, 4)\n",
    "# 10개의 1차원 데이터를 고정된 4개의 칼럼을 가진 로우로는 변경할 수 없기에 위의 reshape(-1,4)는 에러가 발생"
   ]
  },
  {
   "cell_type": "code",
   "execution_count": 47,
   "id": "86fcb27e",
   "metadata": {},
   "outputs": [
    {
     "name": "stdout",
     "output_type": "stream",
     "text": [
      "array3d:\n",
      " [[[0, 1], [2, 3]], [[4, 5], [6, 7]]]\n",
      "array5:\n",
      " [[0], [1], [2], [3], [4], [5], [6], [7]]\n",
      "array5 shape:  (8, 1)\n",
      "array6:\n",
      " [[0], [1], [2], [3], [4], [5], [6], [7]]\n",
      "array6 shape:  (8, 1)\n"
     ]
    }
   ],
   "source": [
    "array1 = np.arange(8)\n",
    "array3d = array1.reshape((2, 2, 2))\n",
    "print('array3d:\\n', array3d.tolist())\n",
    "\n",
    "# 3차원 ndarray를 2차원 ndarray로 변환\n",
    "array5 = array3d.reshape(-1, 1)\n",
    "print('array5:\\n', array5.tolist()) # ndarray는 tolist를 활용해 리스트 자료형으로 변환 가능\n",
    "print('array5 shape: ', array5.shape)\n",
    "\n",
    "# 1차원 ndarray를 2차원 ndarray로 변환\n",
    "array6 = array1.reshape(-1, 1)\n",
    "print('array6:\\n', array6.tolist())\n",
    "print('array6 shape: ', array6.shape)"
   ]
  },
  {
   "cell_type": "markdown",
   "id": "00d2c069",
   "metadata": {},
   "source": [
    "### 넘파이의 ndarray의 데이터 세트 선택하기 - 인덱싱(indexing)\n",
    "* 특정한 데이터만 추출: 원하는 위치의 인덱스 값을 지정하면 해당 위치의 데이터가 반환됩니다.\n",
    "* 슬라이싱: 슬라이싱은 연속된 인덱스상의 ndarray를 추출하는 방식입니다. ':'기호 사이에 시작 인덱스와 종료 인덱스를 표시하면 시작 인덱스에서 종료 인덱스 -1 위치에 있는 데이터의 ndarray를 반환합니다.\n",
    "* 팬시 인덱싱: 일정한 인덱싱 집합을 리스트 또는 ndarray 형태로 지정해 해당 위치에 있는 데이터 ndarray를 반환합니다.\n",
    "* 불린 인덱싱: 특정 조건에 해당하는지 여부인 True/False 값 인덱싱 집합을 기반으로 True에 해당하는 인덱스 위치에 있는 데이터의 ndarray를 반환합니다."
   ]
  },
  {
   "cell_type": "code",
   "execution_count": 48,
   "id": "60720033",
   "metadata": {},
   "outputs": [
    {
     "name": "stdout",
     "output_type": "stream",
     "text": [
      "array1:  [1 2 3 4 5 6 7 8 9]\n",
      "value: 3\n",
      "<class 'numpy.int32'>\n"
     ]
    }
   ],
   "source": [
    "# 1부터 9까지의 1차원 ndarray 생성\n",
    "array1 = np.arange(start=1, stop=10)\n",
    "print('array1: ', array1)\n",
    "# index는 0부터 시작하므로 array1[2]는 3번째 index 위치의 데이터값을 의미\n",
    "value = array1[2]\n",
    "print('value:', value)\n",
    "print(type(value))"
   ]
  },
  {
   "cell_type": "code",
   "execution_count": 49,
   "id": "8f09b094",
   "metadata": {},
   "outputs": [
    {
     "name": "stdout",
     "output_type": "stream",
     "text": [
      "맨 뒤의 값:  9 맨 뒤에서 두 번째 값:  8\n"
     ]
    }
   ],
   "source": [
    "print('맨 뒤의 값: ', array1[-1], '맨 뒤에서 두 번째 값: ', array1[-2])"
   ]
  },
  {
   "cell_type": "code",
   "execution_count": 50,
   "id": "fb981f11",
   "metadata": {},
   "outputs": [
    {
     "name": "stdout",
     "output_type": "stream",
     "text": [
      "array1:  [9 2 3 4 5 6 7 8 0]\n"
     ]
    }
   ],
   "source": [
    "array1[0] = 9\n",
    "array1[8] = 0\n",
    "print('array1: ', array1)"
   ]
  },
  {
   "cell_type": "code",
   "execution_count": 51,
   "id": "ed9a3fe7",
   "metadata": {},
   "outputs": [
    {
     "name": "stdout",
     "output_type": "stream",
     "text": [
      "[[1 2 3]\n",
      " [4 5 6]\n",
      " [7 8 9]]\n",
      "(row=0, col=0) index 가리키는 값: 1\n",
      "(row=0, col=1) index 가리키는 값: 2\n",
      "(row=1, col=0) index 가리키는 값: 4\n",
      "(row=2, col=2) index 가리키는 값: 9\n"
     ]
    }
   ],
   "source": [
    "array1d = np.arange(start=1, stop=10)\n",
    "array2d = array1d.reshape(3, 3)\n",
    "print(array2d)\n",
    "\n",
    "print('(row=0, col=0) index 가리키는 값:', array2d[0, 0])\n",
    "print('(row=0, col=1) index 가리키는 값:', array2d[0, 1])\n",
    "print('(row=1, col=0) index 가리키는 값:', array2d[1, 0])\n",
    "print('(row=2, col=2) index 가리키는 값:', array2d[2, 2])"
   ]
  },
  {
   "cell_type": "markdown",
   "id": "8a10bfbb",
   "metadata": {},
   "source": [
    "### 슬라이싱"
   ]
  },
  {
   "cell_type": "code",
   "execution_count": 52,
   "id": "11d1b6f3",
   "metadata": {},
   "outputs": [
    {
     "name": "stdout",
     "output_type": "stream",
     "text": [
      "[1 2 3]\n",
      "<class 'numpy.ndarray'>\n"
     ]
    }
   ],
   "source": [
    "array1 = np.arange(start=1, stop=10)\n",
    "array3 = array1[0:3]\n",
    "print(array3)\n",
    "print(type(array3))"
   ]
  },
  {
   "cell_type": "markdown",
   "id": "e6aefb65",
   "metadata": {},
   "source": [
    "* ':' 기호 앞에 시작 인덱스를 생략하면 자동으로 맨 처음 인덱스인 0으로 간주\n",
    "* ':' 기호 뒤에 종료 인덱스를 생략하면 자동으로 맨 마지막 인덱스로 간주\n",
    "* ':' 기호 앞/뒤에 시작/종료 인덱스를 생략하면 자동으로 맨 처음/맨 마지막 인덱스로 간주"
   ]
  },
  {
   "cell_type": "code",
   "execution_count": 53,
   "id": "9967239e",
   "metadata": {},
   "outputs": [
    {
     "name": "stdout",
     "output_type": "stream",
     "text": [
      "[1 2 3]\n",
      "[4 5 6 7 8 9]\n",
      "[1 2 3 4 5 6 7 8 9]\n"
     ]
    }
   ],
   "source": [
    "array1 = np.arange(start=1, stop=10)\n",
    "array4 = array1[:3]\n",
    "print(array4)\n",
    "\n",
    "array5 = array1[3:]\n",
    "print(array5)\n",
    "\n",
    "array6 = array1[:]\n",
    "print(array6)"
   ]
  },
  {
   "cell_type": "code",
   "execution_count": 54,
   "id": "c8115842",
   "metadata": {},
   "outputs": [
    {
     "name": "stdout",
     "output_type": "stream",
     "text": [
      "array2d;\n",
      " [[1 2 3]\n",
      " [4 5 6]\n",
      " [7 8 9]]\n",
      "array2d[0:2, 0:2] \n",
      " [[1 2]\n",
      " [4 5]]\n",
      "array2d[1:3, 0:3] \n",
      " [[4 5 6]\n",
      " [7 8 9]]\n",
      "array2d[1:3, :] \n",
      " [[4 5 6]\n",
      " [7 8 9]]\n",
      "array2d[:, :] \n",
      " [[1 2 3]\n",
      " [4 5 6]\n",
      " [7 8 9]]\n",
      "array2d[:2, 1:] \n",
      " [[2 3]\n",
      " [5 6]]\n",
      "array2d[:2, 0] \n",
      " [1 4]\n"
     ]
    }
   ],
   "source": [
    "array1d = np.arange(start=1, stop=10)\n",
    "array2d = array1d.reshape(3, 3)\n",
    "print('array2d;\\n', array2d)\n",
    "\n",
    "print('array2d[0:2, 0:2] \\n', array2d[0:2, 0:2])\n",
    "print('array2d[1:3, 0:3] \\n', array2d[1:3, 0:3])\n",
    "print('array2d[1:3, :] \\n', array2d[1:3, :])\n",
    "print('array2d[:, :] \\n', array2d[:, :])\n",
    "print('array2d[:2, 1:] \\n', array2d[:2, 1:])\n",
    "print('array2d[:2, 0] \\n', array2d[:2, 0])"
   ]
  },
  {
   "cell_type": "markdown",
   "id": "2e603db7",
   "metadata": {},
   "source": [
    "### 팬시 인덱싱"
   ]
  },
  {
   "cell_type": "code",
   "execution_count": 55,
   "id": "08584b55",
   "metadata": {},
   "outputs": [
    {
     "name": "stdout",
     "output_type": "stream",
     "text": [
      "[1 2 3]\n",
      "[4 5 6]\n",
      "array2d[0] shape:  (3,) array2d[1] shape:  (3,)\n"
     ]
    }
   ],
   "source": [
    "print(array2d[0])\n",
    "print(array2d[1])\n",
    "print('array2d[0] shape: ', array2d[0].shape, 'array2d[1] shape: ', array2d[1].shape)"
   ]
  },
  {
   "cell_type": "code",
   "execution_count": 56,
   "id": "cc6e6510",
   "metadata": {},
   "outputs": [
    {
     "name": "stdout",
     "output_type": "stream",
     "text": [
      "array2d[[0, 1], 2] =>  [3, 6]\n",
      "array2d[[0, 1], 0:2] =>  [[1, 2], [4, 5]]\n",
      "array2d[[0, 1]] =>  [[1, 2, 3], [4, 5, 6]]\n"
     ]
    }
   ],
   "source": [
    "array1d = np.arange(start=1, stop=10)\n",
    "array2d = array1d.reshape(3, 3)\n",
    "\n",
    "array3 = array2d[[0, 1], 2]\n",
    "print('array2d[[0, 1], 2] => ', array3.tolist())\n",
    "\n",
    "array4 = array2d[[0, 1], 0:2]\n",
    "print('array2d[[0, 1], 0:2] => ', array4.tolist())\n",
    "\n",
    "array5 = array2d[[0, 1]]\n",
    "print('array2d[[0, 1]] => ', array5.tolist())"
   ]
  },
  {
   "cell_type": "markdown",
   "id": "762be5e1",
   "metadata": {},
   "source": [
    "### 불린 인덱싱\n",
    "조건 필터링과 검색을 동시에 할 수 있는 인덱싱 방식"
   ]
  },
  {
   "cell_type": "code",
   "execution_count": 57,
   "id": "d505b07b",
   "metadata": {},
   "outputs": [
    {
     "name": "stdout",
     "output_type": "stream",
     "text": [
      "array1d > 5 불린 인덱싱 결과 값 :  [6 7 8 9]\n"
     ]
    }
   ],
   "source": [
    "array1d = np.arange(start=1, stop=10)\n",
    "# []안에 array1d > 5 불린 인덱싱을 적용\n",
    "array3 = array1d[array1d > 5]\n",
    "print('array1d > 5 불린 인덱싱 결과 값 : ', array3)"
   ]
  },
  {
   "cell_type": "code",
   "execution_count": 58,
   "id": "4d7b6747",
   "metadata": {},
   "outputs": [
    {
     "data": {
      "text/plain": [
       "array([False, False, False, False, False,  True,  True,  True,  True])"
      ]
     },
     "execution_count": 58,
     "metadata": {},
     "output_type": "execute_result"
    }
   ],
   "source": [
    "array1d > 5"
   ]
  },
  {
   "cell_type": "code",
   "execution_count": 59,
   "id": "ff6f1965",
   "metadata": {},
   "outputs": [
    {
     "name": "stdout",
     "output_type": "stream",
     "text": [
      "불린 인덱스로 필터링 결과 :  [6 7 8 9]\n"
     ]
    }
   ],
   "source": [
    "boolean_indexes = np.array([False, False, False, False, False, True, True, True, True])\n",
    "array3 = array1d[boolean_indexes]\n",
    "print('불린 인덱스로 필터링 결과 : ', array3)"
   ]
  },
  {
   "cell_type": "code",
   "execution_count": 60,
   "id": "cac1e050",
   "metadata": {},
   "outputs": [
    {
     "name": "stdout",
     "output_type": "stream",
     "text": [
      "일반 인덱스로 필터링 결과 : [6 7 8 9]\n"
     ]
    }
   ],
   "source": [
    "indexes = np.array([5, 6, 7, 8])\n",
    "array4 = array1d[indexes]\n",
    "print('일반 인덱스로 필터링 결과 :', array4)"
   ]
  },
  {
   "cell_type": "markdown",
   "id": "e9030d33",
   "metadata": {},
   "source": [
    "### 행렬 정렬"
   ]
  },
  {
   "cell_type": "code",
   "execution_count": 61,
   "id": "b828f90c",
   "metadata": {},
   "outputs": [
    {
     "name": "stdout",
     "output_type": "stream",
     "text": [
      "원본 행렬:  [3 1 9 5]\n",
      "np.sort() 호출 후 변환된 정렬 행렬:  [1 3 5 9]\n",
      "np.sort() 호출 후 원본 행렬:  [3 1 9 5]\n",
      "org_array.sort() 호출 후 변환된 행렬:  None\n",
      "org_array.sort() 호출 후 원본 행렬:  [1 3 5 9]\n"
     ]
    }
   ],
   "source": [
    "org_array = np.array([3, 1, 9, 5])\n",
    "print('원본 행렬: ', org_array)\n",
    "# np.sort()로 정렬\n",
    "sort_array1 = np.sort(org_array)\n",
    "print('np.sort() 호출 후 변환된 정렬 행렬: ', sort_array1)\n",
    "\n",
    "print('np.sort() 호출 후 원본 행렬: ', org_array)\n",
    "# ndarray.sort()로 정렬\n",
    "sort_array2 = org_array.sort()\n",
    "print('org_array.sort() 호출 후 변환된 행렬: ', sort_array2)\n",
    "print('org_array.sort() 호출 후 원본 행렬: ', org_array)"
   ]
  },
  {
   "cell_type": "code",
   "execution_count": 62,
   "id": "ed9ebd2d",
   "metadata": {},
   "outputs": [
    {
     "name": "stdout",
     "output_type": "stream",
     "text": [
      "내림차순으로 정렬:  [9 5 3 1]\n"
     ]
    }
   ],
   "source": [
    "sort_array1_desc = np.sort(org_array)[::-1]\n",
    "print('내림차순으로 정렬: ', sort_array1_desc)"
   ]
  },
  {
   "cell_type": "code",
   "execution_count": 63,
   "id": "a1121532",
   "metadata": {},
   "outputs": [
    {
     "name": "stdout",
     "output_type": "stream",
     "text": [
      "로우 방향으로 정렬:\n",
      " [[ 7  1]\n",
      " [ 8 12]]\n",
      "칼럼 방향으로 정렬: \n",
      " [[ 8 12]\n",
      " [ 1  7]]\n"
     ]
    }
   ],
   "source": [
    "array2d = np.array([[8, 12], [7,1]])\n",
    "\n",
    "sort_array2d_axis0 = np.sort(array2d, axis=0)\n",
    "print('로우 방향으로 정렬:\\n', sort_array2d_axis0)\n",
    "\n",
    "sort_array2d_axis1 = np.sort(array2d, axis=1)\n",
    "print('칼럼 방향으로 정렬: \\n', sort_array2d_axis1)"
   ]
  },
  {
   "cell_type": "markdown",
   "id": "43462b1f",
   "metadata": {},
   "source": [
    "### 정렬된 행렬의 인덱스를 반환하기"
   ]
  },
  {
   "cell_type": "code",
   "execution_count": 64,
   "id": "8020dc11",
   "metadata": {},
   "outputs": [
    {
     "name": "stdout",
     "output_type": "stream",
     "text": [
      "<class 'numpy.ndarray'>\n",
      "행렬 정렬 시 원본 행렬의 인덱스:  [1 0 3 2]\n"
     ]
    }
   ],
   "source": [
    "org_array = np.array([3,1,9,5])\n",
    "sort_indices = np.argsort(org_array)\n",
    "print(type(sort_indices))\n",
    "print('행렬 정렬 시 원본 행렬의 인덱스: ', sort_indices)"
   ]
  },
  {
   "cell_type": "code",
   "execution_count": 65,
   "id": "9057999d",
   "metadata": {},
   "outputs": [
    {
     "name": "stdout",
     "output_type": "stream",
     "text": [
      "행렬 내림차순 정렬 시 원본 행렬의 인덱스:  [2 3 0 1]\n"
     ]
    }
   ],
   "source": [
    "org_array = np.array([3,1,9,5])\n",
    "sort_indices_desc = np.argsort(org_array)[::-1]\n",
    "print('행렬 내림차순 정렬 시 원본 행렬의 인덱스: ', sort_indices_desc)"
   ]
  },
  {
   "cell_type": "code",
   "execution_count": 66,
   "id": "46e6034e",
   "metadata": {},
   "outputs": [
    {
     "name": "stdout",
     "output_type": "stream",
     "text": [
      "성적 오름차순 정렬 시 score_array의 인덱스:  [0 2 4 1 3]\n",
      "성적 오름차순으로 name_array의 이름 출력:  ['John' 'Sarah' 'Samuel' 'Mike' 'Kate']\n"
     ]
    }
   ],
   "source": [
    "import numpy as np\n",
    "\n",
    "name_array = np.array(['John', 'Mike', 'Sarah', 'Kate', 'Samuel'])\n",
    "score_array = np.array([78, 95, 84, 98, 88])\n",
    "\n",
    "sort_indices_asc = np.argsort(score_array)\n",
    "print('성적 오름차순 정렬 시 score_array의 인덱스: ', sort_indices_asc)\n",
    "print('성적 오름차순으로 name_array의 이름 출력: ', name_array[sort_indices_asc])"
   ]
  },
  {
   "cell_type": "markdown",
   "id": "d5f4dedc",
   "metadata": {},
   "source": [
    "### 행렬 내적(행렬 곱)"
   ]
  },
  {
   "cell_type": "code",
   "execution_count": 67,
   "id": "2b1d3e14",
   "metadata": {},
   "outputs": [
    {
     "name": "stdout",
     "output_type": "stream",
     "text": [
      "행렬 내적 결과:\n",
      " [[ 58  64]\n",
      " [139 154]]\n"
     ]
    }
   ],
   "source": [
    "A = np.array( [[1,2,3], \n",
    "               [4,5,6]] )\n",
    "B = np.array( [[7,8], \n",
    "               [9,10],\n",
    "               [11, 12]] )\n",
    "dot_product = np.dot(A, B)\n",
    "print('행렬 내적 결과:\\n', dot_product)"
   ]
  },
  {
   "cell_type": "markdown",
   "id": "2ce92db0",
   "metadata": {},
   "source": [
    "### 전치 행렬"
   ]
  },
  {
   "cell_type": "code",
   "execution_count": 68,
   "id": "ba0ee609",
   "metadata": {},
   "outputs": [
    {
     "name": "stdout",
     "output_type": "stream",
     "text": [
      "A의 전치 행렬:\n",
      " [[1 3]\n",
      " [2 4]]\n"
     ]
    }
   ],
   "source": [
    "A = np.array([[1, 2],\n",
    "              [3, 4]])\n",
    "transpose_mat = np.transpose(A)\n",
    "print('A의 전치 행렬:\\n', transpose_mat)"
   ]
  },
  {
   "cell_type": "code",
   "execution_count": null,
   "id": "80c01129",
   "metadata": {},
   "outputs": [],
   "source": []
  }
 ],
 "metadata": {
  "kernelspec": {
   "display_name": "Python 3",
   "language": "python",
   "name": "python3"
  },
  "language_info": {
   "codemirror_mode": {
    "name": "ipython",
    "version": 3
   },
   "file_extension": ".py",
   "mimetype": "text/x-python",
   "name": "python",
   "nbconvert_exporter": "python",
   "pygments_lexer": "ipython3",
   "version": "3.8.8"
  }
 },
 "nbformat": 4,
 "nbformat_minor": 5
}
